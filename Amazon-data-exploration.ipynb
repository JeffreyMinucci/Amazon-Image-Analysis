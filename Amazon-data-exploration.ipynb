{
 "cells": [
  {
   "cell_type": "markdown",
   "metadata": {},
   "source": [
    "# Exploring Amazon Images for Kaggle Competition"
   ]
  },
  {
   "cell_type": "code",
   "execution_count": 28,
   "metadata": {
    "collapsed": false
   },
   "outputs": [
    {
     "data": {
      "text/html": [
       "<div>\n",
       "<table border=\"1\" class=\"dataframe\">\n",
       "  <thead>\n",
       "    <tr style=\"text-align: right;\">\n",
       "      <th></th>\n",
       "      <th>image_name</th>\n",
       "      <th>tags</th>\n",
       "    </tr>\n",
       "  </thead>\n",
       "  <tbody>\n",
       "    <tr>\n",
       "      <th>0</th>\n",
       "      <td>train_0</td>\n",
       "      <td>haze primary</td>\n",
       "    </tr>\n",
       "    <tr>\n",
       "      <th>1</th>\n",
       "      <td>train_1</td>\n",
       "      <td>agriculture clear primary water</td>\n",
       "    </tr>\n",
       "    <tr>\n",
       "      <th>2</th>\n",
       "      <td>train_2</td>\n",
       "      <td>clear primary</td>\n",
       "    </tr>\n",
       "    <tr>\n",
       "      <th>3</th>\n",
       "      <td>train_3</td>\n",
       "      <td>clear primary</td>\n",
       "    </tr>\n",
       "    <tr>\n",
       "      <th>4</th>\n",
       "      <td>train_4</td>\n",
       "      <td>agriculture clear habitation primary road</td>\n",
       "    </tr>\n",
       "  </tbody>\n",
       "</table>\n",
       "</div>"
      ],
      "text/plain": [
       "  image_name                                       tags\n",
       "0    train_0                               haze primary\n",
       "1    train_1            agriculture clear primary water\n",
       "2    train_2                              clear primary\n",
       "3    train_3                              clear primary\n",
       "4    train_4  agriculture clear habitation primary road"
      ]
     },
     "execution_count": 28,
     "metadata": {},
     "output_type": "execute_result"
    }
   ],
   "source": [
    "import numpy as np\n",
    "import pandas as pd\n",
    "import os\n",
    "import gc\n",
    "import matplotlib.pyplot as plot\n",
    "import seaborn as sns\n",
    "sns.set_style(\"white\")\n",
    "%matplotlib inline\n",
    "\n",
    "pal = sns.color_palette()\n",
    "\n",
    "df_train = pd.read_csv('train_v2.csv')\n",
    "df_train.head()"
   ]
  },
  {
   "cell_type": "code",
   "execution_count": 42,
   "metadata": {
    "collapsed": false
   },
   "outputs": [
    {
     "data": {
      "image/png": "[encoded data removed]",
      "text/plain": [
       "<matplotlib.figure.Figure at 0xf107630>"
      ]
     },
     "metadata": {},
     "output_type": "display_data"
    }
   ],
   "source": [
    "labels = df_train['tags'].apply(lambda x: x.split(' '))\n",
    "from collections import Counter, defaultdict\n",
    "counts = defaultdict(int)\n",
    "for l in labels:\n",
    "    for l2 in l:\n",
    "        counts[l2] += 1\n",
    "df_counts = pd.DataFrame(list(counts.items()),columns=[\"Label\",\"Count\"])\n",
    "#df_counts.columns\n",
    "df_counts = df_counts.sort_values(\"Count\",ascending=False)\n",
    "g = sns.barplot(x=\"Label\",y=\"Count\",data=df_counts)\n",
    "g.set_xticklabels(g.get_xticklabels(), rotation=90)\n",
    "g.set(ylabel=\"Count\")\n",
    "sns.despine()\n"
   ]
  },
  {
   "cell_type": "code",
   "execution_count": 43,
   "metadata": {
    "collapsed": false
   },
   "outputs": [
    {
     "data": {
      "text/plain": [
       "array([[  1.00000000e+00,   9.89988877e-01,   2.49165740e-01,\n",
       "          0.00000000e+00,   2.27289581e-01,   4.78309232e-02,\n",
       "          1.46088246e-01,   7.48980349e-02,   1.11234705e-03,\n",
       "          0.00000000e+00,   0.00000000e+00,   7.41564702e-04,\n",
       "          1.52020764e-02,   1.85391175e-03,   1.48312940e-03,\n",
       "          1.85391175e-03,   0.00000000e+00],\n",
       "       [  7.11753259e-02,   1.00000000e+00,   3.19142697e-01,\n",
       "          7.37557647e-01,   1.86628635e-01,   9.24746088e-02,\n",
       "          2.06008584e-01,   1.18758830e-01,   5.57140191e-03,\n",
       "          0.00000000e+00,   1.91267027e-01,   2.50579799e-03,\n",
       "          1.82070216e-02,   8.63700584e-03,   8.85026524e-03,\n",
       "          9.06352464e-03,   2.61242769e-03],\n",
       "       [  5.45676005e-02,   9.72147787e-01,   1.00000000e+00,\n",
       "          7.42996346e-01,   2.20219245e-01,   2.22249289e-01,\n",
       "          4.89971579e-01,   2.74218433e-01,   9.66301259e-03,\n",
       "          0.00000000e+00,   2.02436054e-01,   1.94884287e-03,\n",
       "          1.82704019e-02,   3.08566788e-03,   2.59845717e-03,\n",
       "          5.27811612e-03,   1.78643930e-03],\n",
       "       [  0.00000000e+00,   9.73163097e-01,   3.21831803e-01,\n",
       "          1.00000000e+00,   1.93521156e-01,   1.08684183e-01,\n",
       "          2.21413246e-01,   1.24054729e-01,   6.08490732e-03,\n",
       "          0.00000000e+00,   0.00000000e+00,   2.46210123e-03,\n",
       "          2.62741374e-02,   1.07980725e-02,   1.09387640e-02,\n",
       "          1.08332454e-02,   2.98969435e-03],\n",
       "       [  8.27148833e-02,   9.44676832e-01,   3.65942518e-01,\n",
       "          7.42409931e-01,   1.00000000e+00,   1.23465119e-01,\n",
       "          2.86735933e-01,   1.17123195e-01,   3.23842936e-03,\n",
       "          0.00000000e+00,   1.74740251e-01,   3.50829848e-03,\n",
       "          2.77965187e-02,   4.03454325e-02,   2.15895291e-03,\n",
       "          6.61179328e-03,   4.04803670e-04],\n",
       "       [  3.52459016e-02,   9.47814208e-01,   7.47814208e-01,\n",
       "          8.44262295e-01,   2.50000000e-01,   1.00000000e+00,\n",
       "          7.61202186e-01,   2.44535519e-01,   1.12021858e-02,\n",
       "          0.00000000e+00,   1.20491803e-01,   9.83606557e-03,\n",
       "          4.45355191e-02,   7.92349727e-03,   1.09289617e-03,\n",
       "          3.55191257e-03,   8.19672131e-04],\n",
       "       [  4.88167513e-02,   9.57502168e-01,   7.47614918e-01,\n",
       "          7.79952918e-01,   2.63288316e-01,   3.45186470e-01,\n",
       "          1.00000000e+00,   1.60327097e-01,   4.46041383e-03,\n",
       "          0.00000000e+00,   1.71230331e-01,   7.31012266e-03,\n",
       "          4.00198241e-02,   1.36290423e-02,   1.23900384e-03,\n",
       "          1.87089580e-02,   2.47800768e-04],\n",
       "       [  4.51194997e-02,   9.95085995e-01,   7.54299754e-01,\n",
       "          7.87804333e-01,   1.93879830e-01,   1.99910654e-01,\n",
       "          2.89032834e-01,   1.00000000e+00,   2.81438463e-02,\n",
       "          0.00000000e+00,   1.67076167e-01,   8.93455439e-04,\n",
       "          1.98793835e-02,   4.02054948e-03,   7.81773509e-03,\n",
       "          1.29551039e-02,   1.78691088e-03],\n",
       "       [  1.43540670e-02,   1.00000000e+00,   5.69377990e-01,\n",
       "          8.27751196e-01,   1.14832536e-01,   1.96172249e-01,\n",
       "          1.72248804e-01,   6.02870813e-01,   1.00000000e+00,\n",
       "          0.00000000e+00,   1.57894737e-01,   0.00000000e+00,\n",
       "          4.78468900e-02,   0.00000000e+00,   9.56937799e-03,\n",
       "          9.56937799e-03,   9.56937799e-03],\n",
       "       [  0.00000000e+00,   0.00000000e+00,   0.00000000e+00,\n",
       "          0.00000000e+00,   0.00000000e+00,   0.00000000e+00,\n",
       "          0.00000000e+00,   0.00000000e+00,   0.00000000e+00,\n",
       "          1.00000000e+00,   0.00000000e+00,   0.00000000e+00,\n",
       "          0.00000000e+00,   0.00000000e+00,   0.00000000e+00,\n",
       "          0.00000000e+00,   0.00000000e+00],\n",
       "       [  0.00000000e+00,   9.88155901e-01,   3.43341138e-01,\n",
       "          0.00000000e+00,   1.78350090e-01,   6.07354359e-02,\n",
       "          1.90331910e-01,   1.03016113e-01,   4.54482854e-03,\n",
       "          0.00000000e+00,   1.00000000e+00,   3.85621815e-03,\n",
       "          1.01914337e-02,   3.71849607e-03,   2.34127531e-03,\n",
       "          3.71849607e-03,   1.79038700e-03],\n",
       "       [  2.00000000e-02,   9.40000000e-01,   2.40000000e-01,\n",
       "          7.00000000e-01,   2.60000000e-01,   3.60000000e-01,\n",
       "          5.90000000e-01,   4.00000000e-02,   0.00000000e+00,\n",
       "          0.00000000e+00,   2.80000000e-01,   1.00000000e+00,\n",
       "          1.00000000e-01,   4.00000000e-02,   0.00000000e+00,\n",
       "          0.00000000e+00,   0.00000000e+00],\n",
       "       [  4.75638051e-02,   7.92343387e-01,   2.61020882e-01,\n",
       "          8.66589327e-01,   2.38979118e-01,   1.89095128e-01,\n",
       "          3.74709977e-01,   1.03248260e-01,   1.16009281e-02,\n",
       "          0.00000000e+00,   8.58468677e-02,   1.16009281e-02,\n",
       "          1.00000000e+00,   4.64037123e-02,   3.48027842e-03,\n",
       "          1.50812065e-02,   4.64037123e-03],\n",
       "       [  1.47492625e-02,   9.55752212e-01,   1.12094395e-01,\n",
       "          9.05604720e-01,   8.82005900e-01,   8.55457227e-02,\n",
       "          3.24483776e-01,   5.30973451e-02,   0.00000000e+00,\n",
       "          0.00000000e+00,   7.96460177e-02,   1.17994100e-02,\n",
       "          1.17994100e-01,   1.00000000e+00,   0.00000000e+00,\n",
       "          1.76991150e-02,   0.00000000e+00],\n",
       "       [  1.20481928e-02,   1.00000000e+00,   9.63855422e-02,\n",
       "          9.36746988e-01,   4.81927711e-02,   1.20481928e-02,\n",
       "          3.01204819e-02,   1.05421687e-01,   6.02409639e-03,\n",
       "          0.00000000e+00,   5.12048193e-02,   0.00000000e+00,\n",
       "          9.03614458e-03,   0.00000000e+00,   1.00000000e+00,\n",
       "          2.10843373e-02,   3.01204819e-03],\n",
       "       [  1.47058824e-02,   1.00000000e+00,   1.91176471e-01,\n",
       "          9.05882353e-01,   1.44117647e-01,   3.82352941e-02,\n",
       "          4.44117647e-01,   1.70588235e-01,   5.88235294e-03,\n",
       "          0.00000000e+00,   7.94117647e-02,   0.00000000e+00,\n",
       "          3.82352941e-02,   1.76470588e-02,   2.05882353e-02,\n",
       "          1.00000000e+00,   2.94117647e-03],\n",
       "       [  0.00000000e+00,   1.00000000e+00,   2.24489796e-01,\n",
       "          8.67346939e-01,   3.06122449e-02,   3.06122449e-02,\n",
       "          2.04081633e-02,   8.16326531e-02,   2.04081633e-02,\n",
       "          0.00000000e+00,   1.32653061e-01,   0.00000000e+00,\n",
       "          4.08163265e-02,   0.00000000e+00,   1.02040816e-02,\n",
       "          1.02040816e-02,   1.00000000e+00]])"
      ]
     },
     "execution_count": 43,
     "metadata": {},
     "output_type": "execute_result"
    }
   ],
   "source": [
    "# Co-occurence Matrix\n",
    "com = np.zeros([len(counts)]*2)\n",
    "for i, l in enumerate(list(counts.keys())):\n",
    "    for i2, l2 in enumerate(list(counts.keys())):\n",
    "        c = 0\n",
    "        cy = 0\n",
    "        for row in labels.values:\n",
    "            if l in row:\n",
    "                c += 1\n",
    "                if l2 in row: cy += 1\n",
    "        com[i, i2] = cy / c\n",
    "\n",
    "com\n",
    "#data=[go.Heatmap(z=com, x=list(counts.keys()), y=list(counts.keys()))]\n",
    "#layout=go.Layout(height=800, width=800, title='Co-occurence matrix of training labels')\n",
    "#fig=dict(data=data, layout=layout)\n",
    "#py.iplot(data, filename='train-com')"
   ]
  },
  {
   "cell_type": "code",
   "execution_count": null,
   "metadata": {
    "collapsed": true
   },
   "outputs": [],
   "source": []
  }
 ],
 "metadata": {
  "kernelspec": {
   "display_name": "Python 3",
   "language": "python",
   "name": "python3"
  },
  "language_info": {
   "codemirror_mode": {
    "name": "ipython",
    "version": 3
   },
   "file_extension": ".py",
   "mimetype": "text/x-python",
   "name": "python",
   "nbconvert_exporter": "python",
   "pygments_lexer": "ipython3",
   "version": "3.6.0"
  }
 },
 "nbformat": 4,
 "nbformat_minor": 2
}
